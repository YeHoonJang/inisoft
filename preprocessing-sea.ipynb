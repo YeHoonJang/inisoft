{
 "cells": [
  {
   "cell_type": "code",
   "execution_count": 28,
   "metadata": {
    "collapsed": true
   },
   "outputs": [],
   "source": [
    "import pandas as pd\n",
    "import numpy as np\n",
    "from sklearn.preprocessing import LabelEncoder"
   ]
  },
  {
   "cell_type": "markdown",
   "metadata": {},
   "source": [
    "### raw data 와 valid data 개요"
   ]
  },
  {
   "cell_type": "code",
   "execution_count": 29,
   "metadata": {},
   "outputs": [
    {
     "name": "stdout",
     "output_type": "stream",
     "text": [
      "Index(['국가코드', 'DB종류', '특허/실용 구분', '문헌종류 코드', '발명의 명칭', '요약', '대표청구항', '청구항 수',\n",
      "       '출원번호', '출원일', '공개번호/공표/재공표 ', '공개일', '등록번호', '등록일', '출원인', '출원인 국적',\n",
      "       '출원인 수', '출원인 대표명화 코드', '출원인 대표명화 영문명', '출원인 대표명화 국문명[KR]',\n",
      "       '출원인 식별기호[JP]', '발명자/고안자', '우선권 번호', '우선권 국가', '우선권 주장일', '국제 공개번호',\n",
      "       '국제 공개일', 'Original CPC Main', 'Original CPC All', 'Original IPC Main',\n",
      "       'Original IPC All', 'Original US Class Main[US]',\n",
      "       'Original US Class All[US]', 'Original FI[JP]', 'Original F-term[JP]',\n",
      "       'Original Theme Code [JP]', 'WIPS ON key'],\n",
      "      dtype='object')\n",
      "(1905, 37)\n"
     ]
    },
    {
     "data": {
      "text/html": [
       "<div>\n",
       "<style>\n",
       "    .dataframe thead tr:only-child th {\n",
       "        text-align: right;\n",
       "    }\n",
       "\n",
       "    .dataframe thead th {\n",
       "        text-align: left;\n",
       "    }\n",
       "\n",
       "    .dataframe tbody tr th {\n",
       "        vertical-align: top;\n",
       "    }\n",
       "</style>\n",
       "<table border=\"1\" class=\"dataframe\">\n",
       "  <thead>\n",
       "    <tr style=\"text-align: right;\">\n",
       "      <th></th>\n",
       "      <th>국가코드</th>\n",
       "      <th>DB종류</th>\n",
       "      <th>특허/실용 구분</th>\n",
       "      <th>문헌종류 코드</th>\n",
       "      <th>발명의 명칭</th>\n",
       "      <th>요약</th>\n",
       "      <th>대표청구항</th>\n",
       "      <th>청구항 수</th>\n",
       "      <th>출원번호</th>\n",
       "      <th>출원일</th>\n",
       "      <th>...</th>\n",
       "      <th>Original CPC Main</th>\n",
       "      <th>Original CPC All</th>\n",
       "      <th>Original IPC Main</th>\n",
       "      <th>Original IPC All</th>\n",
       "      <th>Original US Class Main[US]</th>\n",
       "      <th>Original US Class All[US]</th>\n",
       "      <th>Original FI[JP]</th>\n",
       "      <th>Original F-term[JP]</th>\n",
       "      <th>Original Theme Code [JP]</th>\n",
       "      <th>WIPS ON key</th>\n",
       "    </tr>\n",
       "  </thead>\n",
       "  <tbody>\n",
       "    <tr>\n",
       "      <th>0</th>\n",
       "      <td>US</td>\n",
       "      <td>US</td>\n",
       "      <td>P</td>\n",
       "      <td>B2</td>\n",
       "      <td>Turboengine water wash system</td>\n",
       "      <td>A system for cleaning gas turbine engines is d...</td>\n",
       "      <td>1. An apparatus for cleaning wing mounted gas ...</td>\n",
       "      <td>64</td>\n",
       "      <td>11/644784</td>\n",
       "      <td>2006-12-22</td>\n",
       "      <td>...</td>\n",
       "      <td>NaN</td>\n",
       "      <td>NaN</td>\n",
       "      <td>B08B-009/00</td>\n",
       "      <td>B08B-009/00</td>\n",
       "      <td>134/166.R</td>\n",
       "      <td>134/166.R | 134/138</td>\n",
       "      <td>NaN</td>\n",
       "      <td>NaN</td>\n",
       "      <td>NaN</td>\n",
       "      <td>4.914000e+12</td>\n",
       "    </tr>\n",
       "    <tr>\n",
       "      <th>1</th>\n",
       "      <td>US</td>\n",
       "      <td>US</td>\n",
       "      <td>P</td>\n",
       "      <td>A1</td>\n",
       "      <td>TREATMENT OF TAILINGS WITH DEIONIZED SILICATE ...</td>\n",
       "      <td>A process for treating a tailings stream compr...</td>\n",
       "      <td>1. A process for treating a tailings stream co...</td>\n",
       "      <td>20</td>\n",
       "      <td>13/848244</td>\n",
       "      <td>2013-03-21</td>\n",
       "      <td>...</td>\n",
       "      <td>B09B-0003/0025</td>\n",
       "      <td>B09B-0003/0025</td>\n",
       "      <td>B09B-003/00</td>\n",
       "      <td>B09B-003/00</td>\n",
       "      <td>106/627</td>\n",
       "      <td>106/627 | 106/600 | 106/631 | 106/632 | 106/63...</td>\n",
       "      <td>NaN</td>\n",
       "      <td>NaN</td>\n",
       "      <td>NaN</td>\n",
       "      <td>5.414000e+12</td>\n",
       "    </tr>\n",
       "    <tr>\n",
       "      <th>2</th>\n",
       "      <td>US</td>\n",
       "      <td>US</td>\n",
       "      <td>P</td>\n",
       "      <td>A1</td>\n",
       "      <td>Method And Apparatus For Treating Tailings Usi...</td>\n",
       "      <td>There is a method described of treating tailin...</td>\n",
       "      <td>1. A method of treating tailings having a comb...</td>\n",
       "      <td>18</td>\n",
       "      <td>13/765924</td>\n",
       "      <td>2013-02-13</td>\n",
       "      <td>...</td>\n",
       "      <td>C02F-0001/48</td>\n",
       "      <td>C02F-0001/48</td>\n",
       "      <td>C02F-001/48</td>\n",
       "      <td>C02F-001/48</td>\n",
       "      <td>204/554</td>\n",
       "      <td>204/554</td>\n",
       "      <td>NaN</td>\n",
       "      <td>NaN</td>\n",
       "      <td>NaN</td>\n",
       "      <td>5.414000e+12</td>\n",
       "    </tr>\n",
       "    <tr>\n",
       "      <th>3</th>\n",
       "      <td>US</td>\n",
       "      <td>US</td>\n",
       "      <td>P</td>\n",
       "      <td>A1</td>\n",
       "      <td>METHOD FOR STABILIZING WASTE AND HAZARDOUS WASTE</td>\n",
       "      <td>The invention provides a process for stabilizi...</td>\n",
       "      <td>1. A method for stabilizing hazardous waste, c...</td>\n",
       "      <td>20</td>\n",
       "      <td>13/767408</td>\n",
       "      <td>2013-02-14</td>\n",
       "      <td>...</td>\n",
       "      <td>A62D-0003/33</td>\n",
       "      <td>A62D-0003/33 | G21F-0009/302</td>\n",
       "      <td>A62D-003/33</td>\n",
       "      <td>A62D-003/33 | G21F-009/30</td>\n",
       "      <td>588/002</td>\n",
       "      <td>588/002 | 588/315</td>\n",
       "      <td>NaN</td>\n",
       "      <td>NaN</td>\n",
       "      <td>NaN</td>\n",
       "      <td>5.414000e+12</td>\n",
       "    </tr>\n",
       "    <tr>\n",
       "      <th>4</th>\n",
       "      <td>US</td>\n",
       "      <td>US</td>\n",
       "      <td>P</td>\n",
       "      <td>B2</td>\n",
       "      <td>Water treatment process and plant using ballas...</td>\n",
       "      <td>A method for treating wastewater using a balla...</td>\n",
       "      <td>1. A method of treating wastewater including: ...</td>\n",
       "      <td>18</td>\n",
       "      <td>12/521154</td>\n",
       "      <td>2007-12-26</td>\n",
       "      <td>...</td>\n",
       "      <td>NaN</td>\n",
       "      <td>NaN</td>\n",
       "      <td>C02F-001/52</td>\n",
       "      <td>C02F-001/52 | B01D-021/01 | B01D-021/02 | B01D...</td>\n",
       "      <td>210/709</td>\n",
       "      <td>210/709 | 210/711 | 210/712 | 210/713 | 210/71...</td>\n",
       "      <td>NaN</td>\n",
       "      <td>NaN</td>\n",
       "      <td>NaN</td>\n",
       "      <td>4.913050e+12</td>\n",
       "    </tr>\n",
       "  </tbody>\n",
       "</table>\n",
       "<p>5 rows × 37 columns</p>\n",
       "</div>"
      ],
      "text/plain": [
       "  국가코드 DB종류 특허/실용 구분 문헌종류 코드  \\\n",
       "0   US   US        P      B2   \n",
       "1   US   US        P      A1   \n",
       "2   US   US        P      A1   \n",
       "3   US   US        P      A1   \n",
       "4   US   US        P      B2   \n",
       "\n",
       "                                              발명의 명칭  \\\n",
       "0                      Turboengine water wash system   \n",
       "1  TREATMENT OF TAILINGS WITH DEIONIZED SILICATE ...   \n",
       "2  Method And Apparatus For Treating Tailings Usi...   \n",
       "3   METHOD FOR STABILIZING WASTE AND HAZARDOUS WASTE   \n",
       "4  Water treatment process and plant using ballas...   \n",
       "\n",
       "                                                  요약  \\\n",
       "0  A system for cleaning gas turbine engines is d...   \n",
       "1  A process for treating a tailings stream compr...   \n",
       "2  There is a method described of treating tailin...   \n",
       "3  The invention provides a process for stabilizi...   \n",
       "4  A method for treating wastewater using a balla...   \n",
       "\n",
       "                                               대표청구항  청구항 수       출원번호  \\\n",
       "0  1. An apparatus for cleaning wing mounted gas ...     64  11/644784   \n",
       "1  1. A process for treating a tailings stream co...     20  13/848244   \n",
       "2  1. A method of treating tailings having a comb...     18  13/765924   \n",
       "3  1. A method for stabilizing hazardous waste, c...     20  13/767408   \n",
       "4  1. A method of treating wastewater including: ...     18  12/521154   \n",
       "\n",
       "          출원일      ...      Original CPC Main              Original CPC All  \\\n",
       "0  2006-12-22      ...                    NaN                           NaN   \n",
       "1  2013-03-21      ...         B09B-0003/0025                B09B-0003/0025   \n",
       "2  2013-02-13      ...           C02F-0001/48                  C02F-0001/48   \n",
       "3  2013-02-14      ...           A62D-0003/33  A62D-0003/33 | G21F-0009/302   \n",
       "4  2007-12-26      ...                    NaN                           NaN   \n",
       "\n",
       "  Original IPC Main                                   Original IPC All  \\\n",
       "0       B08B-009/00                                        B08B-009/00   \n",
       "1       B09B-003/00                                        B09B-003/00   \n",
       "2       C02F-001/48                                        C02F-001/48   \n",
       "3       A62D-003/33                          A62D-003/33 | G21F-009/30   \n",
       "4       C02F-001/52  C02F-001/52 | B01D-021/01 | B01D-021/02 | B01D...   \n",
       "\n",
       "  Original US Class Main[US]  \\\n",
       "0                  134/166.R   \n",
       "1                    106/627   \n",
       "2                    204/554   \n",
       "3                    588/002   \n",
       "4                    210/709   \n",
       "\n",
       "                           Original US Class All[US]  Original FI[JP]  \\\n",
       "0                                134/166.R | 134/138              NaN   \n",
       "1  106/627 | 106/600 | 106/631 | 106/632 | 106/63...              NaN   \n",
       "2                                            204/554              NaN   \n",
       "3                                  588/002 | 588/315              NaN   \n",
       "4  210/709 | 210/711 | 210/712 | 210/713 | 210/71...              NaN   \n",
       "\n",
       "  Original F-term[JP] Original Theme Code [JP]   WIPS ON key  \n",
       "0                 NaN                      NaN  4.914000e+12  \n",
       "1                 NaN                      NaN  5.414000e+12  \n",
       "2                 NaN                      NaN  5.414000e+12  \n",
       "3                 NaN                      NaN  5.414000e+12  \n",
       "4                 NaN                      NaN  4.913050e+12  \n",
       "\n",
       "[5 rows x 37 columns]"
      ]
     },
     "execution_count": 29,
     "metadata": {},
     "output_type": "execute_result"
    }
   ],
   "source": [
    "raw_data = pd.read_csv(\"../data/sea_managing_raw.csv\", encoding = \"cp949\")\n",
    "print(raw_data.columns)\n",
    "print(raw_data.shape)\n",
    "raw_data.head()"
   ]
  },
  {
   "cell_type": "code",
   "execution_count": 30,
   "metadata": {
    "collapsed": true
   },
   "outputs": [],
   "source": [
    "df = pd.DataFrame(raw_data, columns=raw_data.columns)"
   ]
  },
  {
   "cell_type": "code",
   "execution_count": 31,
   "metadata": {},
   "outputs": [
    {
     "name": "stdout",
     "output_type": "stream",
     "text": [
      "Index(['공개(등록)번호', '공개(등록)일자', '국가', '구분', '발명의 명칭', 'IPC', '출원인'], dtype='object')\n",
      "(2098, 7)\n"
     ]
    },
    {
     "data": {
      "text/html": [
       "<div>\n",
       "<style>\n",
       "    .dataframe thead tr:only-child th {\n",
       "        text-align: right;\n",
       "    }\n",
       "\n",
       "    .dataframe thead th {\n",
       "        text-align: left;\n",
       "    }\n",
       "\n",
       "    .dataframe tbody tr th {\n",
       "        vertical-align: top;\n",
       "    }\n",
       "</style>\n",
       "<table border=\"1\" class=\"dataframe\">\n",
       "  <thead>\n",
       "    <tr style=\"text-align: right;\">\n",
       "      <th></th>\n",
       "      <th>공개(등록)번호</th>\n",
       "      <th>공개(등록)일자</th>\n",
       "      <th>국가</th>\n",
       "      <th>구분</th>\n",
       "      <th>발명의 명칭</th>\n",
       "      <th>IPC</th>\n",
       "      <th>출원인</th>\n",
       "    </tr>\n",
       "  </thead>\n",
       "  <tbody>\n",
       "    <tr>\n",
       "      <th>0</th>\n",
       "      <td>1014013000000</td>\n",
       "      <td>20140523</td>\n",
       "      <td>KR</td>\n",
       "      <td>등록</td>\n",
       "      <td>생태안착형 입체 호안구조 및 이의 시공방법</td>\n",
       "      <td>E02B</td>\n",
       "      <td>벽산건설 주식회사</td>\n",
       "    </tr>\n",
       "    <tr>\n",
       "      <th>1</th>\n",
       "      <td>1014013000000</td>\n",
       "      <td>20140523</td>\n",
       "      <td>KR</td>\n",
       "      <td>등록</td>\n",
       "      <td>생태안착형 입체 호안구조 및 이의 시공방법</td>\n",
       "      <td>E02B</td>\n",
       "      <td>벽산건설 주식회사</td>\n",
       "    </tr>\n",
       "    <tr>\n",
       "      <th>2</th>\n",
       "      <td>1013950840000</td>\n",
       "      <td>20140508</td>\n",
       "      <td>KR</td>\n",
       "      <td>등록</td>\n",
       "      <td>질소 및 인의 동시 제거가 가능한 생물여과 처리장치</td>\n",
       "      <td>C02F</td>\n",
       "      <td>주식회사 지승개발</td>\n",
       "    </tr>\n",
       "    <tr>\n",
       "      <th>3</th>\n",
       "      <td>1013950840000</td>\n",
       "      <td>20140508</td>\n",
       "      <td>KR</td>\n",
       "      <td>등록</td>\n",
       "      <td>질소 및 인의 동시 제거가 가능한 생물여과 처리장치</td>\n",
       "      <td>C02F</td>\n",
       "      <td>주식회사 지승개발</td>\n",
       "    </tr>\n",
       "    <tr>\n",
       "      <th>4</th>\n",
       "      <td>1013903570000</td>\n",
       "      <td>20140423</td>\n",
       "      <td>KR</td>\n",
       "      <td>등록</td>\n",
       "      <td>살수여상기능 및 정수처리기능을 갖는 자연형 하천 호안 공법</td>\n",
       "      <td>E02B</td>\n",
       "      <td>충북대학교 산학협력단</td>\n",
       "    </tr>\n",
       "  </tbody>\n",
       "</table>\n",
       "</div>"
      ],
      "text/plain": [
       "        공개(등록)번호  공개(등록)일자  국가  구분                            발명의 명칭   IPC  \\\n",
       "0  1014013000000  20140523  KR  등록           생태안착형 입체 호안구조 및 이의 시공방법  E02B   \n",
       "1  1014013000000  20140523  KR  등록           생태안착형 입체 호안구조 및 이의 시공방법  E02B   \n",
       "2  1013950840000  20140508  KR  등록      질소 및 인의 동시 제거가 가능한 생물여과 처리장치  C02F   \n",
       "3  1013950840000  20140508  KR  등록      질소 및 인의 동시 제거가 가능한 생물여과 처리장치  C02F   \n",
       "4  1013903570000  20140423  KR  등록  살수여상기능 및 정수처리기능을 갖는 자연형 하천 호안 공법  E02B   \n",
       "\n",
       "           출원인  \n",
       "0    벽산건설 주식회사  \n",
       "1    벽산건설 주식회사  \n",
       "2    주식회사 지승개발  \n",
       "3    주식회사 지승개발  \n",
       "4  충북대학교 산학협력단  "
      ]
     },
     "execution_count": 31,
     "metadata": {},
     "output_type": "execute_result"
    }
   ],
   "source": [
    "val_data = pd.read_csv(\"../data/sea_managing_val.csv\", encoding = \"cp949\")\n",
    "print(val_data.columns)\n",
    "print(val_data.shape)\n",
    "val_data.head()"
   ]
  },
  {
   "cell_type": "markdown",
   "metadata": {},
   "source": [
    "### raw data 필요없는 column 제거 <br>\n",
    "ex) 'Original FI[JP]', 'Original F-term[JP]', 'Original Theme Code [JP]', '출원인 식별기호[JP]'"
   ]
  },
  {
   "cell_type": "code",
   "execution_count": 32,
   "metadata": {},
   "outputs": [
    {
     "data": {
      "text/html": [
       "<div>\n",
       "<style>\n",
       "    .dataframe thead tr:only-child th {\n",
       "        text-align: right;\n",
       "    }\n",
       "\n",
       "    .dataframe thead th {\n",
       "        text-align: left;\n",
       "    }\n",
       "\n",
       "    .dataframe tbody tr th {\n",
       "        vertical-align: top;\n",
       "    }\n",
       "</style>\n",
       "<table border=\"1\" class=\"dataframe\">\n",
       "  <thead>\n",
       "    <tr style=\"text-align: right;\">\n",
       "      <th></th>\n",
       "      <th>국가코드</th>\n",
       "      <th>DB종류</th>\n",
       "      <th>특허/실용 구분</th>\n",
       "      <th>문헌종류 코드</th>\n",
       "      <th>발명의 명칭</th>\n",
       "      <th>요약</th>\n",
       "      <th>대표청구항</th>\n",
       "      <th>청구항 수</th>\n",
       "      <th>출원번호</th>\n",
       "      <th>출원일</th>\n",
       "      <th>...</th>\n",
       "      <th>우선권 주장일</th>\n",
       "      <th>국제 공개번호</th>\n",
       "      <th>국제 공개일</th>\n",
       "      <th>Original CPC Main</th>\n",
       "      <th>Original CPC All</th>\n",
       "      <th>Original IPC Main</th>\n",
       "      <th>Original IPC All</th>\n",
       "      <th>Original US Class Main[US]</th>\n",
       "      <th>Original US Class All[US]</th>\n",
       "      <th>WIPS ON key</th>\n",
       "    </tr>\n",
       "  </thead>\n",
       "  <tbody>\n",
       "    <tr>\n",
       "      <th>0</th>\n",
       "      <td>US</td>\n",
       "      <td>US</td>\n",
       "      <td>P</td>\n",
       "      <td>B2</td>\n",
       "      <td>Turboengine water wash system</td>\n",
       "      <td>A system for cleaning gas turbine engines is d...</td>\n",
       "      <td>1. An apparatus for cleaning wing mounted gas ...</td>\n",
       "      <td>64</td>\n",
       "      <td>11/644784</td>\n",
       "      <td>2006-12-22</td>\n",
       "      <td>...</td>\n",
       "      <td>NaN</td>\n",
       "      <td>NaN</td>\n",
       "      <td>NaN</td>\n",
       "      <td>NaN</td>\n",
       "      <td>NaN</td>\n",
       "      <td>B08B-009/00</td>\n",
       "      <td>B08B-009/00</td>\n",
       "      <td>134/166.R</td>\n",
       "      <td>134/166.R | 134/138</td>\n",
       "      <td>4.914000e+12</td>\n",
       "    </tr>\n",
       "    <tr>\n",
       "      <th>1</th>\n",
       "      <td>US</td>\n",
       "      <td>US</td>\n",
       "      <td>P</td>\n",
       "      <td>A1</td>\n",
       "      <td>TREATMENT OF TAILINGS WITH DEIONIZED SILICATE ...</td>\n",
       "      <td>A process for treating a tailings stream compr...</td>\n",
       "      <td>1. A process for treating a tailings stream co...</td>\n",
       "      <td>20</td>\n",
       "      <td>13/848244</td>\n",
       "      <td>2013-03-21</td>\n",
       "      <td>...</td>\n",
       "      <td>NaN</td>\n",
       "      <td>NaN</td>\n",
       "      <td>NaN</td>\n",
       "      <td>B09B-0003/0025</td>\n",
       "      <td>B09B-0003/0025</td>\n",
       "      <td>B09B-003/00</td>\n",
       "      <td>B09B-003/00</td>\n",
       "      <td>106/627</td>\n",
       "      <td>106/627 | 106/600 | 106/631 | 106/632 | 106/63...</td>\n",
       "      <td>5.414000e+12</td>\n",
       "    </tr>\n",
       "    <tr>\n",
       "      <th>2</th>\n",
       "      <td>US</td>\n",
       "      <td>US</td>\n",
       "      <td>P</td>\n",
       "      <td>A1</td>\n",
       "      <td>Method And Apparatus For Treating Tailings Usi...</td>\n",
       "      <td>There is a method described of treating tailin...</td>\n",
       "      <td>1. A method of treating tailings having a comb...</td>\n",
       "      <td>18</td>\n",
       "      <td>13/765924</td>\n",
       "      <td>2013-02-13</td>\n",
       "      <td>...</td>\n",
       "      <td>2012-07-09</td>\n",
       "      <td>NaN</td>\n",
       "      <td>NaN</td>\n",
       "      <td>C02F-0001/48</td>\n",
       "      <td>C02F-0001/48</td>\n",
       "      <td>C02F-001/48</td>\n",
       "      <td>C02F-001/48</td>\n",
       "      <td>204/554</td>\n",
       "      <td>204/554</td>\n",
       "      <td>5.414000e+12</td>\n",
       "    </tr>\n",
       "    <tr>\n",
       "      <th>3</th>\n",
       "      <td>US</td>\n",
       "      <td>US</td>\n",
       "      <td>P</td>\n",
       "      <td>A1</td>\n",
       "      <td>METHOD FOR STABILIZING WASTE AND HAZARDOUS WASTE</td>\n",
       "      <td>The invention provides a process for stabilizi...</td>\n",
       "      <td>1. A method for stabilizing hazardous waste, c...</td>\n",
       "      <td>20</td>\n",
       "      <td>13/767408</td>\n",
       "      <td>2013-02-14</td>\n",
       "      <td>...</td>\n",
       "      <td>2012-07-02</td>\n",
       "      <td>NaN</td>\n",
       "      <td>NaN</td>\n",
       "      <td>A62D-0003/33</td>\n",
       "      <td>A62D-0003/33 | G21F-0009/302</td>\n",
       "      <td>A62D-003/33</td>\n",
       "      <td>A62D-003/33 | G21F-009/30</td>\n",
       "      <td>588/002</td>\n",
       "      <td>588/002 | 588/315</td>\n",
       "      <td>5.414000e+12</td>\n",
       "    </tr>\n",
       "    <tr>\n",
       "      <th>4</th>\n",
       "      <td>US</td>\n",
       "      <td>US</td>\n",
       "      <td>P</td>\n",
       "      <td>B2</td>\n",
       "      <td>Water treatment process and plant using ballas...</td>\n",
       "      <td>A method for treating wastewater using a balla...</td>\n",
       "      <td>1. A method of treating wastewater including: ...</td>\n",
       "      <td>18</td>\n",
       "      <td>12/521154</td>\n",
       "      <td>2007-12-26</td>\n",
       "      <td>...</td>\n",
       "      <td>2006-12-29</td>\n",
       "      <td>WO2008-083923</td>\n",
       "      <td>2008-07-17</td>\n",
       "      <td>NaN</td>\n",
       "      <td>NaN</td>\n",
       "      <td>C02F-001/52</td>\n",
       "      <td>C02F-001/52 | B01D-021/01 | B01D-021/02 | B01D...</td>\n",
       "      <td>210/709</td>\n",
       "      <td>210/709 | 210/711 | 210/712 | 210/713 | 210/71...</td>\n",
       "      <td>4.913050e+12</td>\n",
       "    </tr>\n",
       "  </tbody>\n",
       "</table>\n",
       "<p>5 rows × 32 columns</p>\n",
       "</div>"
      ],
      "text/plain": [
       "  국가코드 DB종류 특허/실용 구분 문헌종류 코드  \\\n",
       "0   US   US        P      B2   \n",
       "1   US   US        P      A1   \n",
       "2   US   US        P      A1   \n",
       "3   US   US        P      A1   \n",
       "4   US   US        P      B2   \n",
       "\n",
       "                                              발명의 명칭  \\\n",
       "0                      Turboengine water wash system   \n",
       "1  TREATMENT OF TAILINGS WITH DEIONIZED SILICATE ...   \n",
       "2  Method And Apparatus For Treating Tailings Usi...   \n",
       "3   METHOD FOR STABILIZING WASTE AND HAZARDOUS WASTE   \n",
       "4  Water treatment process and plant using ballas...   \n",
       "\n",
       "                                                  요약  \\\n",
       "0  A system for cleaning gas turbine engines is d...   \n",
       "1  A process for treating a tailings stream compr...   \n",
       "2  There is a method described of treating tailin...   \n",
       "3  The invention provides a process for stabilizi...   \n",
       "4  A method for treating wastewater using a balla...   \n",
       "\n",
       "                                               대표청구항  청구항 수       출원번호  \\\n",
       "0  1. An apparatus for cleaning wing mounted gas ...     64  11/644784   \n",
       "1  1. A process for treating a tailings stream co...     20  13/848244   \n",
       "2  1. A method of treating tailings having a comb...     18  13/765924   \n",
       "3  1. A method for stabilizing hazardous waste, c...     20  13/767408   \n",
       "4  1. A method of treating wastewater including: ...     18  12/521154   \n",
       "\n",
       "          출원일      ...          우선권 주장일        국제 공개번호      국제 공개일  \\\n",
       "0  2006-12-22      ...              NaN            NaN         NaN   \n",
       "1  2013-03-21      ...              NaN            NaN         NaN   \n",
       "2  2013-02-13      ...       2012-07-09            NaN         NaN   \n",
       "3  2013-02-14      ...       2012-07-02            NaN         NaN   \n",
       "4  2007-12-26      ...       2006-12-29  WO2008-083923  2008-07-17   \n",
       "\n",
       "  Original CPC Main              Original CPC All Original IPC Main  \\\n",
       "0               NaN                           NaN       B08B-009/00   \n",
       "1    B09B-0003/0025                B09B-0003/0025       B09B-003/00   \n",
       "2      C02F-0001/48                  C02F-0001/48       C02F-001/48   \n",
       "3      A62D-0003/33  A62D-0003/33 | G21F-0009/302       A62D-003/33   \n",
       "4               NaN                           NaN       C02F-001/52   \n",
       "\n",
       "                                    Original IPC All  \\\n",
       "0                                        B08B-009/00   \n",
       "1                                        B09B-003/00   \n",
       "2                                        C02F-001/48   \n",
       "3                          A62D-003/33 | G21F-009/30   \n",
       "4  C02F-001/52 | B01D-021/01 | B01D-021/02 | B01D...   \n",
       "\n",
       "  Original US Class Main[US]  \\\n",
       "0                  134/166.R   \n",
       "1                    106/627   \n",
       "2                    204/554   \n",
       "3                    588/002   \n",
       "4                    210/709   \n",
       "\n",
       "                           Original US Class All[US]   WIPS ON key  \n",
       "0                                134/166.R | 134/138  4.914000e+12  \n",
       "1  106/627 | 106/600 | 106/631 | 106/632 | 106/63...  5.414000e+12  \n",
       "2                                            204/554  5.414000e+12  \n",
       "3                                  588/002 | 588/315  5.414000e+12  \n",
       "4  210/709 | 210/711 | 210/712 | 210/713 | 210/71...  4.913050e+12  \n",
       "\n",
       "[5 rows x 32 columns]"
      ]
     },
     "execution_count": 32,
     "metadata": {},
     "output_type": "execute_result"
    }
   ],
   "source": [
    "df = raw_data.dropna(axis=1, how='all')\n",
    "df.head()"
   ]
  },
  {
   "cell_type": "markdown",
   "metadata": {},
   "source": [
    "### valid data에서 US data 외 데이터 drop"
   ]
  },
  {
   "cell_type": "code",
   "execution_count": 64,
   "metadata": {},
   "outputs": [
    {
     "data": {
      "text/html": [
       "<div>\n",
       "<style>\n",
       "    .dataframe thead tr:only-child th {\n",
       "        text-align: right;\n",
       "    }\n",
       "\n",
       "    .dataframe thead th {\n",
       "        text-align: left;\n",
       "    }\n",
       "\n",
       "    .dataframe tbody tr th {\n",
       "        vertical-align: top;\n",
       "    }\n",
       "</style>\n",
       "<table border=\"1\" class=\"dataframe\">\n",
       "  <thead>\n",
       "    <tr style=\"text-align: right;\">\n",
       "      <th></th>\n",
       "      <th>공개(등록)번호</th>\n",
       "      <th>공개(등록)일자</th>\n",
       "      <th>국가</th>\n",
       "      <th>구분</th>\n",
       "      <th>발명의 명칭</th>\n",
       "      <th>IPC</th>\n",
       "      <th>출원인</th>\n",
       "    </tr>\n",
       "  </thead>\n",
       "  <tbody>\n",
       "    <tr>\n",
       "      <th>14</th>\n",
       "      <td>20140037379</td>\n",
       "      <td>20140206</td>\n",
       "      <td>US</td>\n",
       "      <td>공개</td>\n",
       "      <td>ALL-WEATHER LANDFILL SOIL COVER SYSTEM FOR PRE...</td>\n",
       "      <td>B09B</td>\n",
       "      <td>NaN</td>\n",
       "    </tr>\n",
       "    <tr>\n",
       "      <th>31</th>\n",
       "      <td>08557121</td>\n",
       "      <td>20131015</td>\n",
       "      <td>US</td>\n",
       "      <td>등록</td>\n",
       "      <td>Modular systems and methods for collecting and...</td>\n",
       "      <td>C02F</td>\n",
       "      <td>Joseph</td>\n",
       "    </tr>\n",
       "    <tr>\n",
       "      <th>61</th>\n",
       "      <td>08448279</td>\n",
       "      <td>20130528</td>\n",
       "      <td>US</td>\n",
       "      <td>등록</td>\n",
       "      <td>Ecologically-sound waterway culvert restoration</td>\n",
       "      <td>E02D</td>\n",
       "      <td>Terrace</td>\n",
       "    </tr>\n",
       "    <tr>\n",
       "      <th>78</th>\n",
       "      <td>08430600</td>\n",
       "      <td>20130430</td>\n",
       "      <td>US</td>\n",
       "      <td>등록</td>\n",
       "      <td>Berm and method of construction thereof</td>\n",
       "      <td>B09B</td>\n",
       "      <td>Carlton</td>\n",
       "    </tr>\n",
       "    <tr>\n",
       "      <th>96</th>\n",
       "      <td>20130028660</td>\n",
       "      <td>20130131</td>\n",
       "      <td>US</td>\n",
       "      <td>공개</td>\n",
       "      <td>MODULAR SELF ADJUSTING PORTABLE LEVEE SYSTEM</td>\n",
       "      <td>E02B</td>\n",
       "      <td>ATAUL</td>\n",
       "    </tr>\n",
       "  </tbody>\n",
       "</table>\n",
       "</div>"
      ],
      "text/plain": [
       "       공개(등록)번호  공개(등록)일자  국가  구분  \\\n",
       "14  20140037379  20140206  US  공개   \n",
       "31     08557121  20131015  US  등록   \n",
       "61     08448279  20130528  US  등록   \n",
       "78     08430600  20130430  US  등록   \n",
       "96  20130028660  20130131  US  공개   \n",
       "\n",
       "                                               발명의 명칭   IPC      출원인  \n",
       "14  ALL-WEATHER LANDFILL SOIL COVER SYSTEM FOR PRE...  B09B      NaN  \n",
       "31  Modular systems and methods for collecting and...  C02F   Joseph  \n",
       "61    Ecologically-sound waterway culvert restoration  E02D  Terrace  \n",
       "78            Berm and method of construction thereof  B09B  Carlton  \n",
       "96       MODULAR SELF ADJUSTING PORTABLE LEVEE SYSTEM  E02B    ATAUL  "
      ]
     },
     "execution_count": 64,
     "metadata": {},
     "output_type": "execute_result"
    }
   ],
   "source": [
    "val_data = val_data[val_data.국가 == \"US\"]\n",
    "val_data = val_data.drop_duplicates(val_data.columns)\n",
    "val_data.head()\n",
    "# val_data.to_csv(\"1.csv\", encoding='cp949')"
   ]
  },
  {
   "cell_type": "markdown",
   "metadata": {},
   "source": [
    "### raw data와 valid data의 공개/등록 번호 form 맞춰주기"
   ]
  },
  {
   "cell_type": "code",
   "execution_count": 7,
   "metadata": {},
   "outputs": [
    {
     "name": "stdout",
     "output_type": "stream",
     "text": [
      "<valid> \n",
      " 14    20140037379\n",
      "15    20140037379\n",
      "31       08557121\n",
      "32       08557121\n",
      "61       08448279\n",
      "Name: 공개(등록)번호, dtype: object\n",
      "\n",
      "<raw> \n",
      " 0    2008-0149141\n",
      "1    2014-0007795\n",
      "2    2014-0008229\n",
      "3    2014-0005461\n",
      "4    2010-0096335\n",
      "Name: 공개번호/공표/재공표 , dtype: object \n",
      " 0    8628627\n",
      "1        NaN\n",
      "2        NaN\n",
      "3        NaN\n",
      "4    8617400\n",
      "Name: 등록번호, dtype: object\n"
     ]
    }
   ],
   "source": [
    "print(\"<valid> \\n\", val_data['공개(등록)번호'].head())\n",
    "print(\"\\n<raw> \\n\", raw_data['공개번호/공표/재공표 '].head(), \"\\n\", raw_data['등록번호'].head())"
   ]
  },
  {
   "cell_type": "code",
   "execution_count": 8,
   "metadata": {},
   "outputs": [
    {
     "name": "stderr",
     "output_type": "stream",
     "text": [
      "/home/yehoon/anaconda3/lib/python3.6/site-packages/ipykernel_launcher.py:1: SettingWithCopyWarning: \n",
      "A value is trying to be set on a copy of a slice from a DataFrame.\n",
      "Try using .loc[row_indexer,col_indexer] = value instead\n",
      "\n",
      "See the caveats in the documentation: http://pandas.pydata.org/pandas-docs/stable/indexing.html#indexing-view-versus-copy\n",
      "  \"\"\"Entry point for launching an IPython kernel.\n",
      "/home/yehoon/anaconda3/lib/python3.6/site-packages/pandas/core/frame.py:2352: SettingWithCopyWarning: \n",
      "A value is trying to be set on a copy of a slice from a DataFrame.\n",
      "Try using .loc[row_indexer,col_indexer] = value instead\n",
      "\n",
      "See the caveats in the documentation: http://pandas.pydata.org/pandas-docs/stable/indexing.html#indexing-view-versus-copy\n",
      "  self[k1] = value[k2]\n"
     ]
    }
   ],
   "source": [
    "df['공개번호/공표/재공표 '] = (df['공개번호/공표/재공표 '].str.split('-')).str.join('')\n",
    "df[['공개번호/공표/재공표 ']] = df[['공개번호/공표/재공표 ']].fillna(value = 0)\n",
    "# df['공개번호/공표/재공표 '].head()\n",
    "# raw_data.head()"
   ]
  },
  {
   "cell_type": "code",
   "execution_count": 9,
   "metadata": {},
   "outputs": [
    {
     "name": "stderr",
     "output_type": "stream",
     "text": [
      "/home/yehoon/anaconda3/lib/python3.6/site-packages/ipykernel_launcher.py:1: SettingWithCopyWarning: \n",
      "A value is trying to be set on a copy of a slice from a DataFrame.\n",
      "Try using .loc[row_indexer,col_indexer] = value instead\n",
      "\n",
      "See the caveats in the documentation: http://pandas.pydata.org/pandas-docs/stable/indexing.html#indexing-view-versus-copy\n",
      "  \"\"\"Entry point for launching an IPython kernel.\n",
      "/home/yehoon/anaconda3/lib/python3.6/site-packages/ipykernel_launcher.py:5: SettingWithCopyWarning: \n",
      "A value is trying to be set on a copy of a slice from a DataFrame\n",
      "\n",
      "See the caveats in the documentation: http://pandas.pydata.org/pandas-docs/stable/indexing.html#indexing-view-versus-copy\n",
      "  \"\"\"\n",
      "/home/yehoon/anaconda3/lib/python3.6/site-packages/IPython/core/interactiveshell.py:2862: SettingWithCopyWarning: \n",
      "A value is trying to be set on a copy of a slice from a DataFrame\n",
      "\n",
      "See the caveats in the documentation: http://pandas.pydata.org/pandas-docs/stable/indexing.html#indexing-view-versus-copy\n",
      "  exec(code_obj, self.user_global_ns, self.user_ns)\n"
     ]
    }
   ],
   "source": [
    "df['등록번호'] = df['등록번호'].apply(lambda x:'{0:0>8}'.format(x) if(np.all(pd.notnull(x))) else x)\n",
    "\n",
    "for idx, i in enumerate(df['등록번호']):\n",
    "    if str(i).isdigit() != True:\n",
    "        df['등록번호'][idx] = 0\n",
    "# df['등록번호'].head(10)"
   ]
  },
  {
   "cell_type": "markdown",
   "metadata": {},
   "source": [
    "### valid patent 확인<br>\n",
    "US 유효특허 : 86개"
   ]
  },
  {
   "cell_type": "code",
   "execution_count": 56,
   "metadata": {},
   "outputs": [
    {
     "name": "stdout",
     "output_type": "stream",
     "text": [
      "[35, 40, 52, 80, 144, 145, 146, 672, 711, 730, 742, 803, 822, 832, 833, 842, 843, 845, 864, 877, 902, 903, 905, 929, 971, 1005, 1106, 1160, 1169, 1243, 1264, 1314, 1348, 1363, 1600, 1603, 1605, 1628, 1705, 1739, 1754]\n"
     ]
    }
   ],
   "source": [
    "#raw_data 중에서 val_data\n",
    "y_idx_list = []\n",
    "# for idx, raw in enumerate(df[\"공개번호/공표/재공표 \"]):\n",
    "#     for val in val_data[\"공개(등록)번호\"]:\n",
    "#         if raw == val:\n",
    "#             if idx not in y_idx_list:\n",
    "#                 y_idx_list.append(idx)\n",
    "\n",
    "# for idx, raw in enumerate(df[\"등록번호\"]):\n",
    "#     for val in val_data[\"공개(등록)번호\"]:\n",
    "#         if raw == val:\n",
    "#             if idx not in y_idx_list:\n",
    "#                 y_idx_list.append(idx)\n",
    "\n",
    "for idx, raw in enumerate(df[\"발명의 명칭\"]):\n",
    "    for val in val_data[\"발명의 명칭\"]:\n",
    "        if raw.lower() == val.lower():\n",
    "            if idx not in y_idx_list:\n",
    "                y_idx_list.append(idx)\n",
    "y_data_list = [int(1) for i in range(len(y_idx_list))]\n",
    "print(y_idx_list)"
   ]
  },
  {
   "cell_type": "code",
   "execution_count": 53,
   "metadata": {},
   "outputs": [
    {
     "name": "stderr",
     "output_type": "stream",
     "text": [
      "/home/yehoon/anaconda3/lib/python3.6/site-packages/ipykernel_launcher.py:2: SettingWithCopyWarning: \n",
      "A value is trying to be set on a copy of a slice from a DataFrame.\n",
      "Try using .loc[row_indexer,col_indexer] = value instead\n",
      "\n",
      "See the caveats in the documentation: http://pandas.pydata.org/pandas-docs/stable/indexing.html#indexing-view-versus-copy\n",
      "  \n"
     ]
    }
   ],
   "source": [
    "y_values = pd.Series(data=y_data_list, index=y_idx_list)\n",
    "df[\"유효특허 여부\"] = y_values"
   ]
  },
  {
   "cell_type": "code",
   "execution_count": 54,
   "metadata": {},
   "outputs": [
    {
     "name": "stderr",
     "output_type": "stream",
     "text": [
      "/home/yehoon/anaconda3/lib/python3.6/site-packages/pandas/core/frame.py:2352: SettingWithCopyWarning: \n",
      "A value is trying to be set on a copy of a slice from a DataFrame.\n",
      "Try using .loc[row_indexer,col_indexer] = value instead\n",
      "\n",
      "See the caveats in the documentation: http://pandas.pydata.org/pandas-docs/stable/indexing.html#indexing-view-versus-copy\n",
      "  self[k1] = value[k2]\n"
     ]
    }
   ],
   "source": [
    "df[['유효특허 여부']] = df[['유효특허 여부']].fillna(value=int(0))\n",
    "# df['유효특허 여부'][1600:1610]"
   ]
  },
  {
   "cell_type": "code",
   "execution_count": 55,
   "metadata": {},
   "outputs": [
    {
     "data": {
      "text/plain": [
       "0.0    1864\n",
       "1.0      41\n",
       "Name: 유효특허 여부, dtype: int64"
      ]
     },
     "execution_count": 55,
     "metadata": {},
     "output_type": "execute_result"
    }
   ],
   "source": [
    "df['유효특허 여부'].value_counts()"
   ]
  },
  {
   "cell_type": "markdown",
   "metadata": {},
   "source": [
    "<hr>"
   ]
  },
  {
   "cell_type": "markdown",
   "metadata": {},
   "source": [
    "### IPC Digitization"
   ]
  },
  {
   "cell_type": "code",
   "execution_count": 176,
   "metadata": {},
   "outputs": [
    {
     "name": "stderr",
     "output_type": "stream",
     "text": [
      "/home/yehoon/anaconda3/lib/python3.6/site-packages/ipykernel_launcher.py:1: SettingWithCopyWarning: \n",
      "A value is trying to be set on a copy of a slice from a DataFrame.\n",
      "Try using .loc[row_indexer,col_indexer] = value instead\n",
      "\n",
      "See the caveats in the documentation: http://pandas.pydata.org/pandas-docs/stable/indexing.html#indexing-view-versus-copy\n",
      "  \"\"\"Entry point for launching an IPython kernel.\n"
     ]
    }
   ],
   "source": [
    "df['Original IPC Main'] = df['Original IPC Main'].astype('str').str.slice(0,4)\n",
    "# df['Original IPC Main'].head()"
   ]
  },
  {
   "cell_type": "code",
   "execution_count": 177,
   "metadata": {
    "collapsed": true
   },
   "outputs": [],
   "source": [
    "ipc_idx_list = []\n",
    "ipc_all = []\n",
    "for idx, i in enumerate(df['Original IPC All']):\n",
    "    i = i.split('|')\n",
    "    if len(i) != 1:\n",
    "        ipc_list = []\n",
    "        for ipc in i:\n",
    "            ipc_list.append((ipc.strip())[0:4])\n",
    "        ipc_all.append(('|').join(ipc_list))\n",
    "        ipc_idx_list.append(idx)\n",
    "    else:\n",
    "        ipc_all.append((i[0].strip())[0:4])\n",
    "        ipc_idx_list.append(idx)"
   ]
  },
  {
   "cell_type": "code",
   "execution_count": 178,
   "metadata": {},
   "outputs": [
    {
     "name": "stderr",
     "output_type": "stream",
     "text": [
      "/home/yehoon/anaconda3/lib/python3.6/site-packages/ipykernel_launcher.py:2: SettingWithCopyWarning: \n",
      "A value is trying to be set on a copy of a slice from a DataFrame.\n",
      "Try using .loc[row_indexer,col_indexer] = value instead\n",
      "\n",
      "See the caveats in the documentation: http://pandas.pydata.org/pandas-docs/stable/indexing.html#indexing-view-versus-copy\n",
      "  \n"
     ]
    }
   ],
   "source": [
    "ipc_values = pd.Series(data = ipc_all, index=ipc_idx_list)\n",
    "df['Original IPC All'] = ipc_values\n",
    "# df['Original IPC All'].head()"
   ]
  },
  {
   "cell_type": "markdown",
   "metadata": {},
   "source": [
    "### fillna"
   ]
  },
  {
   "cell_type": "code",
   "execution_count": 179,
   "metadata": {},
   "outputs": [
    {
     "name": "stderr",
     "output_type": "stream",
     "text": [
      "/home/yehoon/anaconda3/lib/python3.6/site-packages/pandas/core/frame.py:2352: SettingWithCopyWarning: \n",
      "A value is trying to be set on a copy of a slice from a DataFrame.\n",
      "Try using .loc[row_indexer,col_indexer] = value instead\n",
      "\n",
      "See the caveats in the documentation: http://pandas.pydata.org/pandas-docs/stable/indexing.html#indexing-view-versus-copy\n",
      "  self[k1] = value[k2]\n"
     ]
    }
   ],
   "source": [
    "df[['출원인']] = df[['출원인']].fillna(value='UKN')\n",
    "# df[['출원인']][60:70]"
   ]
  },
  {
   "cell_type": "markdown",
   "metadata": {},
   "source": [
    "### including dash data preprocessing"
   ]
  },
  {
   "cell_type": "code",
   "execution_count": 180,
   "metadata": {},
   "outputs": [
    {
     "name": "stderr",
     "output_type": "stream",
     "text": [
      "/home/yehoon/anaconda3/lib/python3.6/site-packages/ipykernel_launcher.py:1: SettingWithCopyWarning: \n",
      "A value is trying to be set on a copy of a slice from a DataFrame.\n",
      "Try using .loc[row_indexer,col_indexer] = value instead\n",
      "\n",
      "See the caveats in the documentation: http://pandas.pydata.org/pandas-docs/stable/indexing.html#indexing-view-versus-copy\n",
      "  \"\"\"Entry point for launching an IPython kernel.\n",
      "/home/yehoon/anaconda3/lib/python3.6/site-packages/pandas/core/frame.py:2352: SettingWithCopyWarning: \n",
      "A value is trying to be set on a copy of a slice from a DataFrame.\n",
      "Try using .loc[row_indexer,col_indexer] = value instead\n",
      "\n",
      "See the caveats in the documentation: http://pandas.pydata.org/pandas-docs/stable/indexing.html#indexing-view-versus-copy\n",
      "  self[k1] = value[k2]\n",
      "/home/yehoon/anaconda3/lib/python3.6/site-packages/ipykernel_launcher.py:4: SettingWithCopyWarning: \n",
      "A value is trying to be set on a copy of a slice from a DataFrame.\n",
      "Try using .loc[row_indexer,col_indexer] = value instead\n",
      "\n",
      "See the caveats in the documentation: http://pandas.pydata.org/pandas-docs/stable/indexing.html#indexing-view-versus-copy\n",
      "  after removing the cwd from sys.path.\n",
      "/home/yehoon/anaconda3/lib/python3.6/site-packages/ipykernel_launcher.py:7: SettingWithCopyWarning: \n",
      "A value is trying to be set on a copy of a slice from a DataFrame.\n",
      "Try using .loc[row_indexer,col_indexer] = value instead\n",
      "\n",
      "See the caveats in the documentation: http://pandas.pydata.org/pandas-docs/stable/indexing.html#indexing-view-versus-copy\n",
      "  import sys\n"
     ]
    }
   ],
   "source": [
    "df['출원일'] = (df['출원일'].str.split('-')).str.join('')\n",
    "df[['출원일']] = df[['출원일']].fillna(value=int(0))\n",
    "\n",
    "df['공개일'] = (df['공개일'].str.split('-')).str.join('')\n",
    "df[['공개일']] = df[['공개일']].fillna(value=int(0))\n",
    "\n",
    "df['등록일'] = (df['등록일'].str.split('-')).str.join('')\n",
    "df[['등록일']] = df[['등록일']].fillna(value=int(0))"
   ]
  },
  {
   "cell_type": "code",
   "execution_count": 181,
   "metadata": {},
   "outputs": [
    {
     "name": "stderr",
     "output_type": "stream",
     "text": [
      "/home/yehoon/anaconda3/lib/python3.6/site-packages/ipykernel_launcher.py:1: SettingWithCopyWarning: \n",
      "A value is trying to be set on a copy of a slice from a DataFrame.\n",
      "Try using .loc[row_indexer,col_indexer] = value instead\n",
      "\n",
      "See the caveats in the documentation: http://pandas.pydata.org/pandas-docs/stable/indexing.html#indexing-view-versus-copy\n",
      "  \"\"\"Entry point for launching an IPython kernel.\n",
      "/home/yehoon/anaconda3/lib/python3.6/site-packages/pandas/core/frame.py:2352: SettingWithCopyWarning: \n",
      "A value is trying to be set on a copy of a slice from a DataFrame.\n",
      "Try using .loc[row_indexer,col_indexer] = value instead\n",
      "\n",
      "See the caveats in the documentation: http://pandas.pydata.org/pandas-docs/stable/indexing.html#indexing-view-versus-copy\n",
      "  self[k1] = value[k2]\n"
     ]
    }
   ],
   "source": [
    "df['국제 공개번호'] = (df['국제 공개번호'].str.split('-')).str.join('').str.slice(2,-1)\n",
    "df[['국제 공개번호']] = df[['국제 공개번호']].fillna(value=int(0))"
   ]
  },
  {
   "cell_type": "markdown",
   "metadata": {},
   "source": [
    "### Label Encoding"
   ]
  },
  {
   "cell_type": "code",
   "execution_count": 182,
   "metadata": {},
   "outputs": [
    {
     "name": "stderr",
     "output_type": "stream",
     "text": [
      "/home/yehoon/anaconda3/lib/python3.6/site-packages/ipykernel_launcher.py:7: SettingWithCopyWarning: \n",
      "A value is trying to be set on a copy of a slice from a DataFrame.\n",
      "Try using .loc[row_indexer,col_indexer] = value instead\n",
      "\n",
      "See the caveats in the documentation: http://pandas.pydata.org/pandas-docs/stable/indexing.html#indexing-view-versus-copy\n",
      "  import sys\n"
     ]
    }
   ],
   "source": [
    "application_id = list(df['출원번호'])\n",
    "\n",
    "le = LabelEncoder()\n",
    "le.fit(application_id)\n",
    "\n",
    "application_id_le = le.transform(application_id)\n",
    "df['출원번호'] = application_id_le"
   ]
  },
  {
   "cell_type": "code",
   "execution_count": 183,
   "metadata": {},
   "outputs": [
    {
     "name": "stderr",
     "output_type": "stream",
     "text": [
      "/home/yehoon/anaconda3/lib/python3.6/site-packages/ipykernel_launcher.py:7: SettingWithCopyWarning: \n",
      "A value is trying to be set on a copy of a slice from a DataFrame.\n",
      "Try using .loc[row_indexer,col_indexer] = value instead\n",
      "\n",
      "See the caveats in the documentation: http://pandas.pydata.org/pandas-docs/stable/indexing.html#indexing-view-versus-copy\n",
      "  import sys\n"
     ]
    }
   ],
   "source": [
    "patent_kind = list(df['문헌종류 코드'])\n",
    "\n",
    "le = LabelEncoder()\n",
    "le.fit(patent_kind)\n",
    "\n",
    "patent_kind_le = le.transform(patent_kind)\n",
    "df['문헌종류 코드'] = patent_kind_le"
   ]
  },
  {
   "cell_type": "code",
   "execution_count": 184,
   "metadata": {},
   "outputs": [
    {
     "name": "stderr",
     "output_type": "stream",
     "text": [
      "/home/yehoon/anaconda3/lib/python3.6/site-packages/ipykernel_launcher.py:7: SettingWithCopyWarning: \n",
      "A value is trying to be set on a copy of a slice from a DataFrame.\n",
      "Try using .loc[row_indexer,col_indexer] = value instead\n",
      "\n",
      "See the caveats in the documentation: http://pandas.pydata.org/pandas-docs/stable/indexing.html#indexing-view-versus-copy\n",
      "  import sys\n"
     ]
    },
    {
     "data": {
      "text/plain": [
       "0    273\n",
       "1    273\n",
       "2    231\n",
       "3    219\n",
       "4    165\n",
       "Name: 우선권 번호, dtype: int64"
      ]
     },
     "execution_count": 184,
     "metadata": {},
     "output_type": "execute_result"
    }
   ],
   "source": [
    "priority_id = list(df['우선권 번호'])\n",
    "\n",
    "le = LabelEncoder()\n",
    "le.fit(priority_id)\n",
    "\n",
    "priority_id_le = le.transform(priority_id)\n",
    "df['우선권 번호'] = priority_id_le\n",
    "df['우선권 번호'].head()"
   ]
  },
  {
   "cell_type": "code",
   "execution_count": 185,
   "metadata": {},
   "outputs": [
    {
     "name": "stderr",
     "output_type": "stream",
     "text": [
      "/home/yehoon/anaconda3/lib/python3.6/site-packages/ipykernel_launcher.py:1: SettingWithCopyWarning: \n",
      "A value is trying to be set on a copy of a slice from a DataFrame.\n",
      "Try using .loc[row_indexer,col_indexer] = value instead\n",
      "\n",
      "See the caveats in the documentation: http://pandas.pydata.org/pandas-docs/stable/indexing.html#indexing-view-versus-copy\n",
      "  \"\"\"Entry point for launching an IPython kernel.\n"
     ]
    },
    {
     "data": {
      "text/plain": [
       "0       0\n",
       "1       0\n",
       "2     231\n",
       "3     219\n",
       "4     165\n",
       "5       0\n",
       "6       0\n",
       "7       0\n",
       "8     142\n",
       "9      51\n",
       "10      0\n",
       "11      0\n",
       "12      0\n",
       "13      0\n",
       "14      0\n",
       "15      0\n",
       "16      0\n",
       "17      0\n",
       "18      0\n",
       "19      0\n",
       "20      0\n",
       "21    237\n",
       "22      0\n",
       "23      0\n",
       "24      0\n",
       "25      0\n",
       "26      0\n",
       "27      0\n",
       "28      0\n",
       "29      0\n",
       "Name: 우선권 번호, dtype: int64"
      ]
     },
     "execution_count": 185,
     "metadata": {},
     "output_type": "execute_result"
    }
   ],
   "source": [
    "df['우선권 번호'] = df['우선권 번호'].apply(lambda x: int(0) if x==273 else x)\n",
    "df['우선권 번호'].head(30)"
   ]
  },
  {
   "cell_type": "code",
   "execution_count": 186,
   "metadata": {
    "collapsed": true
   },
   "outputs": [],
   "source": [
    "df = df.astype('str')"
   ]
  },
  {
   "cell_type": "code",
   "execution_count": 187,
   "metadata": {
    "collapsed": true
   },
   "outputs": [],
   "source": [
    "df.to_csv('../../data/sea/data_v2.csv', encoding='cp949')"
   ]
  },
  {
   "cell_type": "code",
   "execution_count": null,
   "metadata": {
    "collapsed": true
   },
   "outputs": [],
   "source": []
  }
 ],
 "metadata": {
  "kernelspec": {
   "display_name": "Python 3",
   "language": "python",
   "name": "python3"
  },
  "language_info": {
   "codemirror_mode": {
    "name": "ipython",
    "version": 3
   },
   "file_extension": ".py",
   "mimetype": "text/x-python",
   "name": "python",
   "nbconvert_exporter": "python",
   "pygments_lexer": "ipython3",
   "version": "3.6.3"
  }
 },
 "nbformat": 4,
 "nbformat_minor": 2
}
